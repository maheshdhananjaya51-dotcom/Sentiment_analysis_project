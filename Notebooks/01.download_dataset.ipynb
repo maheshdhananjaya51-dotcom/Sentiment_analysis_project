{
 "cells": [
  {
   "cell_type": "code",
   "execution_count": 2,
   "id": "5f9c6532",
   "metadata": {},
   "outputs": [],
   "source": [
    "import numpy as np"
   ]
  },
  {
   "cell_type": "code",
   "execution_count": 3,
   "id": "6822dbbc-d1a1-45bf-91e9-90469f1265bb",
   "metadata": {},
   "outputs": [],
   "source": [
    "import json\n",
    "with open('../artifacts/kaggle.json','r') as file:\n",
    "    data = json.load(file)"
   ]
  },
  {
   "cell_type": "code",
   "execution_count": 4,
   "id": "71125918-f6c5-423c-8239-02fcfabb0261",
   "metadata": {},
   "outputs": [
    {
     "data": {
      "text/plain": [
       "{'username': 'dhananjayamahesh', 'key': 'e2200c4024512e6adb253ddb6b34c2bd'}"
      ]
     },
     "execution_count": 4,
     "metadata": {},
     "output_type": "execute_result"
    }
   ],
   "source": [
    "data"
   ]
  },
  {
   "cell_type": "code",
   "execution_count": 5,
   "id": "ef264105-f902-4c37-b11e-55a366310425",
   "metadata": {},
   "outputs": [
    {
     "name": "stdout",
     "output_type": "stream",
     "text": [
      "Requirement already satisfied: kaggle in c:\\users\\ww\\onedrive\\desktop\\sentiment_analysis_project\\env\\lib\\site-packages (1.7.4.5)\n",
      "Requirement already satisfied: bleach in c:\\users\\ww\\onedrive\\desktop\\sentiment_analysis_project\\env\\lib\\site-packages (from kaggle) (6.2.0)\n",
      "Requirement already satisfied: certifi>=14.05.14 in c:\\users\\ww\\onedrive\\desktop\\sentiment_analysis_project\\env\\lib\\site-packages (from kaggle) (2025.8.3)\n",
      "Requirement already satisfied: charset-normalizer in c:\\users\\ww\\onedrive\\desktop\\sentiment_analysis_project\\env\\lib\\site-packages (from kaggle) (3.4.3)\n",
      "Requirement already satisfied: idna in c:\\users\\ww\\onedrive\\desktop\\sentiment_analysis_project\\env\\lib\\site-packages (from kaggle) (3.10)\n",
      "Requirement already satisfied: protobuf in c:\\users\\ww\\onedrive\\desktop\\sentiment_analysis_project\\env\\lib\\site-packages (from kaggle) (6.31.1)\n",
      "Requirement already satisfied: python-dateutil>=2.5.3 in c:\\users\\ww\\onedrive\\desktop\\sentiment_analysis_project\\env\\lib\\site-packages (from kaggle) (2.9.0.post0)\n",
      "Requirement already satisfied: python-slugify in c:\\users\\ww\\onedrive\\desktop\\sentiment_analysis_project\\env\\lib\\site-packages (from kaggle) (8.0.4)\n",
      "Requirement already satisfied: requests in c:\\users\\ww\\onedrive\\desktop\\sentiment_analysis_project\\env\\lib\\site-packages (from kaggle) (2.32.4)\n",
      "Requirement already satisfied: setuptools>=21.0.0 in c:\\users\\ww\\onedrive\\desktop\\sentiment_analysis_project\\env\\lib\\site-packages (from kaggle) (80.9.0)\n",
      "Requirement already satisfied: six>=1.10 in c:\\users\\ww\\onedrive\\desktop\\sentiment_analysis_project\\env\\lib\\site-packages (from kaggle) (1.17.0)\n",
      "Requirement already satisfied: text-unidecode in c:\\users\\ww\\onedrive\\desktop\\sentiment_analysis_project\\env\\lib\\site-packages (from kaggle) (1.3)\n",
      "Requirement already satisfied: tqdm in c:\\users\\ww\\onedrive\\desktop\\sentiment_analysis_project\\env\\lib\\site-packages (from kaggle) (4.67.1)\n",
      "Requirement already satisfied: urllib3>=1.15.1 in c:\\users\\ww\\onedrive\\desktop\\sentiment_analysis_project\\env\\lib\\site-packages (from kaggle) (2.5.0)\n",
      "Requirement already satisfied: webencodings in c:\\users\\ww\\onedrive\\desktop\\sentiment_analysis_project\\env\\lib\\site-packages (from kaggle) (0.5.1)\n",
      "Requirement already satisfied: colorama in c:\\users\\ww\\onedrive\\desktop\\sentiment_analysis_project\\env\\lib\\site-packages (from tqdm->kaggle) (0.4.6)\n",
      "Note: you may need to restart the kernel to use updated packages.\n"
     ]
    }
   ],
   "source": [
    "pip install kaggle"
   ]
  },
  {
   "cell_type": "code",
   "execution_count": 6,
   "id": "ba29bbf9-93ba-4052-9bf8-14809d9bfadb",
   "metadata": {},
   "outputs": [
    {
     "name": "stdout",
     "output_type": "stream",
     "text": [
      "Requirement already satisfied: hatch in c:\\users\\ww\\onedrive\\desktop\\sentiment_analysis_project\\env\\lib\\site-packages (1.14.1)\n",
      "Requirement already satisfied: click>=8.0.6 in c:\\users\\ww\\onedrive\\desktop\\sentiment_analysis_project\\env\\lib\\site-packages (from hatch) (8.2.1)\n",
      "Requirement already satisfied: hatchling>=1.26.3 in c:\\users\\ww\\onedrive\\desktop\\sentiment_analysis_project\\env\\lib\\site-packages (from hatch) (1.27.0)\n",
      "Requirement already satisfied: httpx>=0.22.0 in c:\\users\\ww\\onedrive\\desktop\\sentiment_analysis_project\\env\\lib\\site-packages (from hatch) (0.28.1)\n",
      "Requirement already satisfied: hyperlink>=21.0.0 in c:\\users\\ww\\onedrive\\desktop\\sentiment_analysis_project\\env\\lib\\site-packages (from hatch) (21.0.0)\n",
      "Requirement already satisfied: keyring>=23.5.0 in c:\\users\\ww\\onedrive\\desktop\\sentiment_analysis_project\\env\\lib\\site-packages (from hatch) (25.6.0)\n",
      "Requirement already satisfied: packaging>=23.2 in c:\\users\\ww\\onedrive\\desktop\\sentiment_analysis_project\\env\\lib\\site-packages (from hatch) (25.0)\n",
      "Requirement already satisfied: pexpect~=4.8 in c:\\users\\ww\\onedrive\\desktop\\sentiment_analysis_project\\env\\lib\\site-packages (from hatch) (4.9.0)\n",
      "Requirement already satisfied: platformdirs>=2.5.0 in c:\\users\\ww\\onedrive\\desktop\\sentiment_analysis_project\\env\\lib\\site-packages (from hatch) (4.3.8)\n",
      "Requirement already satisfied: rich>=11.2.0 in c:\\users\\ww\\onedrive\\desktop\\sentiment_analysis_project\\env\\lib\\site-packages (from hatch) (14.1.0)\n",
      "Requirement already satisfied: shellingham>=1.4.0 in c:\\users\\ww\\onedrive\\desktop\\sentiment_analysis_project\\env\\lib\\site-packages (from hatch) (1.5.4)\n",
      "Requirement already satisfied: tomli-w>=1.0 in c:\\users\\ww\\onedrive\\desktop\\sentiment_analysis_project\\env\\lib\\site-packages (from hatch) (1.2.0)\n",
      "Requirement already satisfied: tomlkit>=0.11.1 in c:\\users\\ww\\onedrive\\desktop\\sentiment_analysis_project\\env\\lib\\site-packages (from hatch) (0.13.3)\n",
      "Requirement already satisfied: userpath~=1.7 in c:\\users\\ww\\onedrive\\desktop\\sentiment_analysis_project\\env\\lib\\site-packages (from hatch) (1.9.2)\n",
      "Requirement already satisfied: uv>=0.5.23 in c:\\users\\ww\\onedrive\\desktop\\sentiment_analysis_project\\env\\lib\\site-packages (from hatch) (0.8.10)\n",
      "Requirement already satisfied: virtualenv>=20.26.6 in c:\\users\\ww\\onedrive\\desktop\\sentiment_analysis_project\\env\\lib\\site-packages (from hatch) (20.34.0)\n",
      "Requirement already satisfied: zstandard<1 in c:\\users\\ww\\onedrive\\desktop\\sentiment_analysis_project\\env\\lib\\site-packages (from hatch) (0.23.0)\n",
      "Requirement already satisfied: ptyprocess>=0.5 in c:\\users\\ww\\onedrive\\desktop\\sentiment_analysis_project\\env\\lib\\site-packages (from pexpect~=4.8->hatch) (0.7.0)\n",
      "Requirement already satisfied: colorama in c:\\users\\ww\\onedrive\\desktop\\sentiment_analysis_project\\env\\lib\\site-packages (from click>=8.0.6->hatch) (0.4.6)\n",
      "Requirement already satisfied: pathspec>=0.10.1 in c:\\users\\ww\\onedrive\\desktop\\sentiment_analysis_project\\env\\lib\\site-packages (from hatchling>=1.26.3->hatch) (0.12.1)\n",
      "Requirement already satisfied: pluggy>=1.0.0 in c:\\users\\ww\\onedrive\\desktop\\sentiment_analysis_project\\env\\lib\\site-packages (from hatchling>=1.26.3->hatch) (1.6.0)\n",
      "Requirement already satisfied: trove-classifiers in c:\\users\\ww\\onedrive\\desktop\\sentiment_analysis_project\\env\\lib\\site-packages (from hatchling>=1.26.3->hatch) (2025.8.6.13)\n",
      "Requirement already satisfied: anyio in c:\\users\\ww\\onedrive\\desktop\\sentiment_analysis_project\\env\\lib\\site-packages (from httpx>=0.22.0->hatch) (4.10.0)\n",
      "Requirement already satisfied: certifi in c:\\users\\ww\\onedrive\\desktop\\sentiment_analysis_project\\env\\lib\\site-packages (from httpx>=0.22.0->hatch) (2025.8.3)\n",
      "Requirement already satisfied: httpcore==1.* in c:\\users\\ww\\onedrive\\desktop\\sentiment_analysis_project\\env\\lib\\site-packages (from httpx>=0.22.0->hatch) (1.0.9)\n",
      "Requirement already satisfied: idna in c:\\users\\ww\\onedrive\\desktop\\sentiment_analysis_project\\env\\lib\\site-packages (from httpx>=0.22.0->hatch) (3.10)\n",
      "Requirement already satisfied: h11>=0.16 in c:\\users\\ww\\onedrive\\desktop\\sentiment_analysis_project\\env\\lib\\site-packages (from httpcore==1.*->httpx>=0.22.0->hatch) (0.16.0)\n",
      "Requirement already satisfied: pywin32-ctypes>=0.2.0 in c:\\users\\ww\\onedrive\\desktop\\sentiment_analysis_project\\env\\lib\\site-packages (from keyring>=23.5.0->hatch) (0.2.3)\n",
      "Requirement already satisfied: jaraco.classes in c:\\users\\ww\\onedrive\\desktop\\sentiment_analysis_project\\env\\lib\\site-packages (from keyring>=23.5.0->hatch) (3.4.0)\n",
      "Requirement already satisfied: jaraco.functools in c:\\users\\ww\\onedrive\\desktop\\sentiment_analysis_project\\env\\lib\\site-packages (from keyring>=23.5.0->hatch) (4.2.1)\n",
      "Requirement already satisfied: jaraco.context in c:\\users\\ww\\onedrive\\desktop\\sentiment_analysis_project\\env\\lib\\site-packages (from keyring>=23.5.0->hatch) (6.0.1)\n",
      "Requirement already satisfied: markdown-it-py>=2.2.0 in c:\\users\\ww\\onedrive\\desktop\\sentiment_analysis_project\\env\\lib\\site-packages (from rich>=11.2.0->hatch) (4.0.0)\n",
      "Requirement already satisfied: pygments<3.0.0,>=2.13.0 in c:\\users\\ww\\onedrive\\desktop\\sentiment_analysis_project\\env\\lib\\site-packages (from rich>=11.2.0->hatch) (2.19.2)\n",
      "Requirement already satisfied: mdurl~=0.1 in c:\\users\\ww\\onedrive\\desktop\\sentiment_analysis_project\\env\\lib\\site-packages (from markdown-it-py>=2.2.0->rich>=11.2.0->hatch) (0.1.2)\n",
      "Requirement already satisfied: distlib<1,>=0.3.7 in c:\\users\\ww\\onedrive\\desktop\\sentiment_analysis_project\\env\\lib\\site-packages (from virtualenv>=20.26.6->hatch) (0.4.0)\n",
      "Requirement already satisfied: filelock<4,>=3.12.2 in c:\\users\\ww\\onedrive\\desktop\\sentiment_analysis_project\\env\\lib\\site-packages (from virtualenv>=20.26.6->hatch) (3.18.0)\n",
      "Requirement already satisfied: sniffio>=1.1 in c:\\users\\ww\\onedrive\\desktop\\sentiment_analysis_project\\env\\lib\\site-packages (from anyio->httpx>=0.22.0->hatch) (1.3.1)\n",
      "Requirement already satisfied: more-itertools in c:\\users\\ww\\onedrive\\desktop\\sentiment_analysis_project\\env\\lib\\site-packages (from jaraco.classes->keyring>=23.5.0->hatch) (10.7.0)\n",
      "Note: you may need to restart the kernel to use updated packages.\n"
     ]
    }
   ],
   "source": [
    "pip install hatch"
   ]
  },
  {
   "cell_type": "code",
   "execution_count": 7,
   "id": "19a1a7eb-acdf-47eb-a303-9006202e34a3",
   "metadata": {},
   "outputs": [],
   "source": [
    "import os\n",
    "os.environ['KAGGLE_USERNAME'] = data['username']\n",
    "os.environ['KAGGLE_KEY'] = data['key']"
   ]
  },
  {
   "cell_type": "code",
   "execution_count": 8,
   "id": "fcf1771c-fd53-41b8-bc3b-fbba462a1a58",
   "metadata": {},
   "outputs": [],
   "source": [
    "import os\n",
    "os.environ[\"KAGGLE_CONFIG_DIR\"] = r\"C:\\Users\\WW\\OneDrive\\Desktop\\Sentiment_analysis_project\\artifacts\"\n",
    "\n",
    "from kaggle.api.kaggle_api_extended import KaggleApi\n",
    "api = KaggleApi()\n",
    "api.authenticate()\n"
   ]
  },
  {
   "cell_type": "code",
   "execution_count": 10,
   "id": "5f69b631-22c4-4289-ac2b-cd51f18670bc",
   "metadata": {},
   "outputs": [
    {
     "name": "stdout",
     "output_type": "stream",
     "text": [
      "Dataset URL: https://www.kaggle.com/datasets/dineshpiyasamara/sentiment-analysis-dataset\n"
     ]
    }
   ],
   "source": [
    "api.dataset_download_files('dineshpiyasamara/sentiment-analysis-dataset',path = '../artifacts/')"
   ]
  },
  {
   "cell_type": "code",
   "execution_count": 3,
   "id": "fb7777f9-49f0-4678-ad75-78ff6e4e56f2",
   "metadata": {},
   "outputs": [],
   "source": [
    "import zipfile\n",
    "with zipfile.ZipFile('../artifacts/sentiment-analysis-dataset.zip','r') as zip_ref:\n",
    "    zip_ref.extractall('../artifacts/')"
   ]
  },
  {
   "cell_type": "code",
   "execution_count": null,
   "id": "ea649f4a-b0ae-4346-a85c-4a6cb88ca1f1",
   "metadata": {},
   "outputs": [],
   "source": []
  },
  {
   "cell_type": "code",
   "execution_count": null,
   "id": "c8c6d030-90c7-42d7-a5fc-db5d7072551e",
   "metadata": {},
   "outputs": [],
   "source": []
  },
  {
   "cell_type": "code",
   "execution_count": null,
   "id": "a8592f3d-7655-4156-994c-79c704ad90f3",
   "metadata": {},
   "outputs": [],
   "source": []
  },
  {
   "cell_type": "code",
   "execution_count": null,
   "id": "4a62e3dd-ceef-49b0-a0a8-b64d48d7144a",
   "metadata": {},
   "outputs": [],
   "source": []
  },
  {
   "cell_type": "code",
   "execution_count": null,
   "id": "3cad0f78-3ede-4c29-81e5-137aa494ca85",
   "metadata": {},
   "outputs": [],
   "source": []
  },
  {
   "cell_type": "code",
   "execution_count": null,
   "id": "89feaa78-3665-468b-819c-f397f8ac0147",
   "metadata": {},
   "outputs": [],
   "source": []
  }
 ],
 "metadata": {
  "kernelspec": {
   "display_name": "Python 3 (ipykernel)",
   "language": "python",
   "name": "python3"
  },
  "language_info": {
   "codemirror_mode": {
    "name": "ipython",
    "version": 3
   },
   "file_extension": ".py",
   "mimetype": "text/x-python",
   "name": "python",
   "nbconvert_exporter": "python",
   "pygments_lexer": "ipython3",
   "version": "3.13.6"
  }
 },
 "nbformat": 4,
 "nbformat_minor": 5
}
